{
 "cells": [
  {
   "cell_type": "code",
   "execution_count": null,
   "metadata": {},
   "outputs": [],
   "source": [
    "#Projet Mogpl M1 Informatique\n",
    "#Dice Battle\n",
    "\n",
    "#Yuhan WANG & Yufei LIU"
   ]
  },
  {
   "cell_type": "code",
   "execution_count": 126,
   "metadata": {},
   "outputs": [
    {
     "name": "stdout",
     "output_type": "stream",
     "text": [
      "[[1.66666667e-01 1.66666667e-01 1.66666667e-01 1.66666667e-01\n",
      "  1.66666667e-01 1.66666667e-01 0.00000000e+00 0.00000000e+00\n",
      "  0.00000000e+00 0.00000000e+00 0.00000000e+00 0.00000000e+00\n",
      "  0.00000000e+00 0.00000000e+00 0.00000000e+00 0.00000000e+00\n",
      "  0.00000000e+00 0.00000000e+00 0.00000000e+00 0.00000000e+00]\n",
      " [3.05555556e-01 0.00000000e+00 0.00000000e+00 2.77777778e-02\n",
      "  5.55555556e-02 8.33333333e-02 1.11111111e-01 1.38888889e-01\n",
      "  1.11111111e-01 8.33333333e-02 5.55555556e-02 2.77777778e-02\n",
      "  0.00000000e+00 0.00000000e+00 0.00000000e+00 0.00000000e+00\n",
      "  0.00000000e+00 0.00000000e+00 0.00000000e+00 0.00000000e+00]\n",
      " [4.21296296e-01 0.00000000e+00 0.00000000e+00 0.00000000e+00\n",
      "  0.00000000e+00 4.62962963e-03 1.38888889e-02 2.77777778e-02\n",
      "  4.62962963e-02 6.94444444e-02 8.33333333e-02 8.79629630e-02\n",
      "  8.33333333e-02 6.94444444e-02 4.62962963e-02 2.77777778e-02\n",
      "  1.38888889e-02 4.62962963e-03 0.00000000e+00 0.00000000e+00]\n",
      " [5.17746914e-01 0.00000000e+00 0.00000000e+00 0.00000000e+00\n",
      "  0.00000000e+00 0.00000000e+00 0.00000000e+00 7.71604938e-04\n",
      "  3.08641975e-03 7.71604938e-03 1.54320988e-02 2.70061728e-02\n",
      "  4.01234568e-02 5.24691358e-02 6.17283951e-02 6.55864198e-02\n",
      "  6.17283951e-02 5.24691358e-02 4.01234568e-02 2.70061728e-02]\n",
      " [5.98122428e-01 0.00000000e+00 0.00000000e+00 0.00000000e+00\n",
      "  0.00000000e+00 0.00000000e+00 0.00000000e+00 0.00000000e+00\n",
      "  0.00000000e+00 1.28600823e-04 6.43004115e-04 1.92901235e-03\n",
      "  4.50102881e-03 9.00205761e-03 1.55606996e-02 2.37911523e-02\n",
      "  3.27932099e-02 4.11522634e-02 4.69393004e-02 4.89969136e-02]]\n"
     ]
    }
   ],
   "source": [
    "import numpy as np\n",
    "import matplotlib.pyplot as plt\n",
    "import math\n",
    "\n",
    "#variable global N est le point cible et D est le nombre de dés qu'on peut lancer maximument chaque fois\n",
    "#LP = ligne perdu signifie que si joueur1 a moins de cette ligne et joueur 2 a N-1 point alors joueur1 a perdu\n",
    "N = 100\n",
    "D = 10\n",
    "LP = N - 6*D\n",
    "\n",
    "#Q1\n",
    "def Q(d,k):\n",
    "    if k<=0 | ((k>1) & (k<2*d)) | k>6*d :\n",
    "        return 0\n",
    "    elif d==1:\n",
    "        if k>1 & k<7:\n",
    "            return 1/5\n",
    "        else:\n",
    "            return 0\n",
    "    else:\n",
    "        res = 0\n",
    "        for j in range(2,7):\n",
    "            res += Q(d-1,k-j)\n",
    "        return res/5\n",
    "\n",
    "\n",
    "def calcul_tableau_P(d,k):\n",
    "    values_possibles = [ i for i in range(1,k+1) ]\n",
    "    res = np.zeros((d , k))\n",
    "    #d2 = 2*d\n",
    "    for i in range(d):\n",
    "        for j in range(k):\n",
    "            ii = i+1\n",
    "            jj = j+1\n",
    "            if jj == 1:\n",
    "                res[i][j] = 1 - (5/6)**ii\n",
    "            elif jj < 2*ii:\n",
    "                res[i][j] = 0\n",
    "            else:\n",
    "                res[i][j] = (5/6)**ii * Q(ii,jj)\n",
    "    return res\n",
    "    \n",
    "print(calcul_tableau_P(5,20))\n"
   ]
  },
  {
   "cell_type": "code",
   "execution_count": 142,
   "metadata": {},
   "outputs": [
    {
     "name": "stdout",
     "output_type": "stream",
     "text": [
      "0.16666666666666663\n"
     ]
    }
   ],
   "source": [
    "tab_P = calcul_tableau_P(10,100)"
   ]
  },
  {
   "cell_type": "code",
   "execution_count": 147,
   "metadata": {},
   "outputs": [
    {
     "name": "stdout",
     "output_type": "stream",
     "text": [
      "0.8384944171101543\n"
     ]
    }
   ],
   "source": [
    "print(tab_P[9][0])"
   ]
  },
  {
   "cell_type": "code",
   "execution_count": 29,
   "metadata": {},
   "outputs": [
    {
     "name": "stdout",
     "output_type": "stream",
     "text": [
      "8.63567386831276\n",
      "8.702653463648836\n"
     ]
    }
   ],
   "source": [
    "#Q2\n",
    "\n",
    "def calcul_EP(d):\n",
    "    return 4*d*(5/6)**d + 1 - (5/6)**d\n",
    "\n",
    "print(calcul_EP(5))\n",
    "print(calcul_EP(6))\n",
    "#On doit choisir d*=6 car EP(6) est supérieur de EP(5)\n",
    "\n",
    "\n"
   ]
  },
  {
   "cell_type": "code",
   "execution_count": 164,
   "metadata": {},
   "outputs": [],
   "source": [
    "#Q4\n",
    "np.set_printoptions(threshold=np.inf)\n",
    "\n",
    "def EG(i,j):\n",
    "    lim = N-1+6*D\n",
    "    if (i>=N) | ((i==N-1) & (j<N)):\n",
    "        return 1\n",
    "    elif (i<LP & j==N-1) | j>=N:\n",
    "        return -1\n",
    "    else:\n",
    "        tab = np.zeros(((lim-i+1),(lim-j+1)))\n",
    "                \n",
    "        for a in range(lim-i+1):\n",
    "            for b in range(lim-j+1):\n",
    "                if(a<6*D):\n",
    "                    tab[a][b]=1\n",
    "                elif(a==6*D):\n",
    "                    if(b>=6*D):\n",
    "                        tab[a][b]=1\n",
    "                    else:\n",
    "                        tab[a][b]=-1\n",
    "                elif((6*D<a)&(b<6*D)):\n",
    "                    tab[a][b]=-1\n",
    "        #print(\"heelo\",tab)\n",
    "        for c in range(6*D+1,lim-i+1):\n",
    "            for d in range(6*D,lim-j+1):\n",
    "                if tab[c][d]==0:\n",
    "                    res = (1/6)**2 * tab[c-1][d-1]\n",
    "                    for e in range(2*D,6*D+1):\n",
    "                        res += tab[c-e][d-1] / (4*D+1) * (1/6)*(5/6)\n",
    "                        res += tab[c-1][d-e] / (4*D+1) * (1/6)*(5/6)\n",
    "                        for f in range(2*D,6*D+1):\n",
    "                            res += tab[c-e][d-f] / (4*D+1)**2 * (5/6)**2\n",
    "                    tab[c][d]=res\n",
    "        #print(\"bye\",tab)\n",
    "        return tab[lim-i][lim-j]\n",
    "        \n",
    "              \n",
    "            \n",
    "\n",
    "    \n"
   ]
  },
  {
   "cell_type": "code",
   "execution_count": 215,
   "metadata": {},
   "outputs": [],
   "source": [
    "#Q4\n",
    "np.set_printoptions(threshold=np.inf)\n",
    "\n",
    "def EG(i,j):\n",
    "    lim = N-1+6*D\n",
    "    if (i>=N) | ((i==N-1) & (j<N)):\n",
    "        return 1\n",
    "    elif (i<LP & j==N-1) | j>=N:\n",
    "        return -1\n",
    "    else:\n",
    "        tab = np.zeros(((lim-i+1),(lim-j+1)))\n",
    "                \n",
    "        for a in range(lim-i+1):\n",
    "            for b in range(lim-j+1):\n",
    "                if(a<6*D):\n",
    "                    tab[a][b]=1\n",
    "                elif(a==6*D):\n",
    "                    if(b>=6*D):\n",
    "                        tab[a][b]=1\n",
    "                    else:\n",
    "                        tab[a][b]=-1\n",
    "                elif((6*D<a)&(b<6*D)):\n",
    "                    tab[a][b]=-1\n",
    "        #print(\"heelo\",tab)\n",
    "        for c in range(6*D+1,lim-i+1):\n",
    "            for d in range(6*D,lim-j+1):\n",
    "                if tab[c][d]==0:\n",
    "                    cas_j1 = []\n",
    "                    for d1 in range(1,D+1):\n",
    "                        res1 = 0\n",
    "                        for e1 in range(1,6*d1+1):\n",
    "                            cas_j2 = []\n",
    "                            for d2 in range(1,D+1):\n",
    "                                res2 = 0\n",
    "                                for e2 in range(1,6*d2+1):\n",
    "                                    res2 += tab[c-e1][d-d2] * tab_P[d2-1][e2-1]\n",
    "                                cas_j2.append(res2)\n",
    "                            opt_j2 = np.argmin(np.array(cas_j2))\n",
    "                            res1 += cas_j2[opt_j2] * tab_P[d1-1][e1-1]\n",
    "                        cas_j1.append(res1)\n",
    "                tab[c][d]=max(cas_j1)  \n",
    "        #print(\"bye\",tab.shape,tab)\n",
    "        return tab[lim-i][lim-j]\n",
    "        \n",
    "              \n",
    "            \n",
    "\n",
    "    \n",
    "\n"
   ]
  },
  {
   "cell_type": "code",
   "execution_count": 165,
   "metadata": {},
   "outputs": [
    {
     "name": "stdout",
     "output_type": "stream",
     "text": [
      "1\n",
      "0.9999999999999786\n",
      "0.9941934548071523\n",
      "0.9901037548277974\n",
      "0.9896624713762225\n",
      "0.36717526293443087\n",
      "0.31685084226803284\n",
      "0.3029416684874429\n",
      "-0.31470565855743793\n"
     ]
    }
   ],
   "source": [
    "print(EG(99,1))\n",
    "print(EG(98,1))\n",
    "print(EG(97,1))\n",
    "print(EG(96,1))\n",
    "print(EG(95,1))\n",
    "print(EG(50,50))\n",
    "print(EG(20,20))\n",
    "print(EG(0,0))\n",
    "print(EG(5,40))"
   ]
  },
  {
   "cell_type": "code",
   "execution_count": 225,
   "metadata": {},
   "outputs": [
    {
     "data": {
      "text/plain": [
       "[-0.9999999999999999,\n",
       " -0.9999999999999999,\n",
       " -0.9999999999999999,\n",
       " -0.9999999999999999,\n",
       " -0.9999999999999999,\n",
       " -0.9999999999999999,\n",
       " -0.9999999999999999,\n",
       " -0.9999999999999999,\n",
       " -0.9999999999999999,\n",
       " -0.9999999999999999,\n",
       " -0.9999999999999999,\n",
       " -0.9999999999999999,\n",
       " -0.9999999999999999,\n",
       " -0.9999999999999999,\n",
       " -0.9999999999999999,\n",
       " -0.9999999999999999,\n",
       " -0.9999999999999999,\n",
       " -0.9999999999999999,\n",
       " -0.9999999999999999,\n",
       " -0.9999999999999999,\n",
       " -0.9999999999999999,\n",
       " -0.9999999999999999,\n",
       " -0.9999999999999999,\n",
       " -0.9999999999999999,\n",
       " -0.9999999999999999,\n",
       " -0.9999999999999999,\n",
       " -0.9999999999999999,\n",
       " -0.9999999999999999,\n",
       " -0.9999999999999999,\n",
       " -0.9999999999999999,\n",
       " -0.9999999999999999,\n",
       " -0.9999999999999999,\n",
       " -0.9999999999999999,\n",
       " -0.9999999999999999,\n",
       " -0.9999999999999999,\n",
       " -0.9999999999999999,\n",
       " -0.9999999999999999,\n",
       " -0.9999999999999999,\n",
       " -0.9999999999999999,\n",
       " -0.9999999669236564,\n",
       " -0.9999996361602227,\n",
       " -0.9999978169613369,\n",
       " -0.9999905401657944,\n",
       " -0.9999668905802807,\n",
       " -0.9999010025042759,\n",
       " -0.9997387630400175,\n",
       " -0.9993785616606546,\n",
       " -0.9986472437086148,\n",
       " -0.9972755677488186,\n",
       " -0.9948807412593778,\n",
       " -0.9909658252574133,\n",
       " -0.9849457653812935,\n",
       " -0.9762063339345289,\n",
       " -0.9641941636924419,\n",
       " -0.9485260982933666,\n",
       " -0.929097054194398,\n",
       " -0.9061602638804215,\n",
       " -0.8803549276871753,\n",
       " -0.8526667206472592,\n",
       " -0.8243221135730497,\n",
       " -0.7966339065331337,\n",
       " -0.7708285703398875,\n",
       " -0.747891780025911,\n",
       " -0.7284627359269423,\n",
       " -0.712794670527867,\n",
       " -0.70078250028578,\n",
       " -0.6920430688390155,\n",
       " -0.6692547582304527,\n",
       " -0.6506790837905807,\n",
       " -0.6368515184423107,\n",
       " -0.6250631096631611,\n",
       " -0.5965565938881268,\n",
       " -0.5747420839048925,\n",
       " -0.5590956504343849,\n",
       " -0.541323731138546,\n",
       " -0.5070659007773206,\n",
       " -0.4818101280292641,\n",
       " -0.46455618427069056,\n",
       " -0.4373285322359397,\n",
       " -0.39656207133058996,\n",
       " -0.3680126886145405,\n",
       " -0.34975137174211257,\n",
       " -0.3073559670781892,\n",
       " -0.25977366255144024,\n",
       " -0.2286522633744855,\n",
       " -0.21064814814814797,\n",
       " -0.14351851851851866,\n",
       " -0.08950617283950621,\n",
       " -0.05864197530864208,\n",
       " -0.0277777777777779,\n",
       " 0.06481481481481473,\n",
       " 0.1203703703703703,\n",
       " 0.14814814814814808,\n",
       " 0.22222222222222213,\n",
       " 0.3333333333333332,\n",
       " 0.38888888888888884,\n",
       " 0.38888888888888884,\n",
       " 0.6666666666666665,\n",
       " 1]"
      ]
     },
     "execution_count": 225,
     "metadata": {},
     "output_type": "execute_result"
    }
   ],
   "source": [
    "[EG(i,99) for i in range(1,100)]\n",
    "\n",
    "\n",
    "\n",
    "\n",
    "\n",
    "\n"
   ]
  },
  {
   "cell_type": "code",
   "execution_count": null,
   "metadata": {},
   "outputs": [],
   "source": [
    "#Q7\n",
    "\n",
    "def strategie_aveugle():\n",
    "    return 6\n",
    "\n",
    "\n",
    "#def strategie_optimale(i,j):\n",
    "    "
   ]
  },
  {
   "cell_type": "code",
   "execution_count": null,
   "metadata": {},
   "outputs": [],
   "source": []
  }
 ],
 "metadata": {
  "kernelspec": {
   "display_name": "Python 3",
   "language": "python",
   "name": "python3"
  },
  "language_info": {
   "codemirror_mode": {
    "name": "ipython",
    "version": 3
   },
   "file_extension": ".py",
   "mimetype": "text/x-python",
   "name": "python",
   "nbconvert_exporter": "python",
   "pygments_lexer": "ipython3",
   "version": "3.7.4"
  }
 },
 "nbformat": 4,
 "nbformat_minor": 2
}
