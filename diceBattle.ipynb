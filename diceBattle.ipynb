{
 "cells": [
  {
   "cell_type": "code",
   "execution_count": null,
   "metadata": {},
   "outputs": [],
   "source": [
    "#Projet Mogpl M1 Informatique\n",
    "#Dice Battle\n",
    "\n",
    "#Yuhan WANG & Yufei LIU"
   ]
  },
  {
   "cell_type": "code",
   "execution_count": 126,
   "metadata": {},
   "outputs": [
    {
     "name": "stdout",
     "output_type": "stream",
     "text": [
      "[[1.66666667e-01 1.66666667e-01 1.66666667e-01 1.66666667e-01\n",
      "  1.66666667e-01 1.66666667e-01 0.00000000e+00 0.00000000e+00\n",
      "  0.00000000e+00 0.00000000e+00 0.00000000e+00 0.00000000e+00\n",
      "  0.00000000e+00 0.00000000e+00 0.00000000e+00 0.00000000e+00\n",
      "  0.00000000e+00 0.00000000e+00 0.00000000e+00 0.00000000e+00]\n",
      " [3.05555556e-01 0.00000000e+00 0.00000000e+00 2.77777778e-02\n",
      "  5.55555556e-02 8.33333333e-02 1.11111111e-01 1.38888889e-01\n",
      "  1.11111111e-01 8.33333333e-02 5.55555556e-02 2.77777778e-02\n",
      "  0.00000000e+00 0.00000000e+00 0.00000000e+00 0.00000000e+00\n",
      "  0.00000000e+00 0.00000000e+00 0.00000000e+00 0.00000000e+00]\n",
      " [4.21296296e-01 0.00000000e+00 0.00000000e+00 0.00000000e+00\n",
      "  0.00000000e+00 4.62962963e-03 1.38888889e-02 2.77777778e-02\n",
      "  4.62962963e-02 6.94444444e-02 8.33333333e-02 8.79629630e-02\n",
      "  8.33333333e-02 6.94444444e-02 4.62962963e-02 2.77777778e-02\n",
      "  1.38888889e-02 4.62962963e-03 0.00000000e+00 0.00000000e+00]\n",
      " [5.17746914e-01 0.00000000e+00 0.00000000e+00 0.00000000e+00\n",
      "  0.00000000e+00 0.00000000e+00 0.00000000e+00 7.71604938e-04\n",
      "  3.08641975e-03 7.71604938e-03 1.54320988e-02 2.70061728e-02\n",
      "  4.01234568e-02 5.24691358e-02 6.17283951e-02 6.55864198e-02\n",
      "  6.17283951e-02 5.24691358e-02 4.01234568e-02 2.70061728e-02]\n",
      " [5.98122428e-01 0.00000000e+00 0.00000000e+00 0.00000000e+00\n",
      "  0.00000000e+00 0.00000000e+00 0.00000000e+00 0.00000000e+00\n",
      "  0.00000000e+00 1.28600823e-04 6.43004115e-04 1.92901235e-03\n",
      "  4.50102881e-03 9.00205761e-03 1.55606996e-02 2.37911523e-02\n",
      "  3.27932099e-02 4.11522634e-02 4.69393004e-02 4.89969136e-02]]\n"
     ]
    }
   ],
   "source": [
    "import numpy as np\n",
    "import matplotlib.pyplot as plt\n",
    "import math\n",
    "\n",
    "#variable global N est le point cible et D est le nombre de dés qu'on peut lancer maximument chaque fois\n",
    "#LP = ligne perdu signifie que si joueur1 a moins de cette ligne et joueur 2 a N-1 point alors joueur1 a perdu\n",
    "N = 100\n",
    "D = 10\n",
    "LP = N - 6*D\n",
    "\n",
    "#Q1\n",
    "def Q(d,k):\n",
    "    if k<=0 | ((k>1) & (k<2*d)) | k>6*d :\n",
    "        return 0\n",
    "    elif d==1:\n",
    "        if k>1 & k<7:\n",
    "            return 1/5\n",
    "        else:\n",
    "            return 0\n",
    "    else:\n",
    "        res = 0\n",
    "        for j in range(2,7):\n",
    "            res += Q(d-1,k-j)\n",
    "        return res/5\n",
    "\n",
    "\n",
    "def calcul_tableau_P(d,k):\n",
    "    values_possibles = [ i for i in range(1,k+1) ]\n",
    "    res = np.zeros((d , k))\n",
    "    #d2 = 2*d\n",
    "    for i in range(d):\n",
    "        for j in range(k):\n",
    "            ii = i+1\n",
    "            jj = j+1\n",
    "            if jj == 1:\n",
    "                res[i][j] = 1 - (5/6)**ii\n",
    "            elif jj < 2*ii:\n",
    "                res[i][j] = 0\n",
    "            else:\n",
    "                res[i][j] = (5/6)**ii * Q(ii,jj)\n",
    "    return res\n",
    "    \n",
    "print(calcul_tableau_P(5,20))\n"
   ]
  },
  {
   "cell_type": "code",
   "execution_count": 142,
   "metadata": {},
   "outputs": [
    {
     "name": "stdout",
     "output_type": "stream",
     "text": [
      "0.16666666666666663\n"
     ]
    }
   ],
   "source": [
    "tab_P = calcul_tableau_P(10,100)"
   ]
  },
  {
   "cell_type": "code",
   "execution_count": 147,
   "metadata": {},
   "outputs": [
    {
     "name": "stdout",
     "output_type": "stream",
     "text": [
      "0.8384944171101543\n"
     ]
    }
   ],
   "source": [
    "print(tab_P[9][0])"
   ]
  },
  {
   "cell_type": "code",
   "execution_count": 29,
   "metadata": {},
   "outputs": [
    {
     "name": "stdout",
     "output_type": "stream",
     "text": [
      "8.63567386831276\n",
      "8.702653463648836\n"
     ]
    }
   ],
   "source": [
    "#Q2\n",
    "\n",
    "def calcul_EP(d):\n",
    "    return 4*d*(5/6)**d + 1 - (5/6)**d\n",
    "\n",
    "print(calcul_EP(5))\n",
    "print(calcul_EP(6))\n",
    "#On doit choisir d*=6 car EP(6) est supérieur de EP(5)\n",
    "\n",
    "\n"
   ]
  },
  {
   "cell_type": "code",
   "execution_count": 164,
   "metadata": {},
   "outputs": [],
   "source": [
    "#Q4\n",
    "np.set_printoptions(threshold=np.inf)\n",
    "\n",
    "def EG(i,j):\n",
    "    lim = N-1+6*D\n",
    "    if (i>=N) | ((i==N-1) & (j<N)):\n",
    "        return 1\n",
    "    elif (i<LP & j==N-1) | j>=N:\n",
    "        return -1\n",
    "    else:\n",
    "        tab = np.zeros(((lim-i+1),(lim-j+1)))\n",
    "                \n",
    "        for a in range(lim-i+1):\n",
    "            for b in range(lim-j+1):\n",
    "                if(a<6*D):\n",
    "                    tab[a][b]=1\n",
    "                elif(a==6*D):\n",
    "                    if(b>=6*D):\n",
    "                        tab[a][b]=1\n",
    "                    else:\n",
    "                        tab[a][b]=-1\n",
    "                elif((6*D<a)&(b<6*D)):\n",
    "                    tab[a][b]=-1\n",
    "        #print(\"heelo\",tab)\n",
    "        for c in range(6*D+1,lim-i+1):\n",
    "            for d in range(6*D,lim-j+1):\n",
    "                if tab[c][d]==0:\n",
    "                    res = (1/6)**2 * tab[c-1][d-1]\n",
    "                    for e in range(2*D,6*D+1):\n",
    "                        res += tab[c-e][d-1] / (4*D+1) * (1/6)*(5/6)\n",
    "                        res += tab[c-1][d-e] / (4*D+1) * (1/6)*(5/6)\n",
    "                        for f in range(2*D,6*D+1):\n",
    "                            res += tab[c-e][d-f] / (4*D+1)**2 * (5/6)**2\n",
    "                    tab[c][d]=res\n",
    "        #print(\"bye\",tab)\n",
    "        return tab[lim-i][lim-j]\n",
    "        \n",
    "              \n",
    "            \n",
    "\n",
    "    \n"
   ]
  },
  {
   "cell_type": "code",
   "execution_count": 185,
   "metadata": {},
   "outputs": [],
   "source": [
    "#Q4\n",
    "np.set_printoptions(threshold=np.inf)\n",
    "\n",
    "def EG(i,j):\n",
    "    lim = N-1+6*D\n",
    "    if (i>=N) | ((i==N-1) & (j<N)):\n",
    "        return 1\n",
    "    elif (i<LP & j==N-1) | j>=N:\n",
    "        return -1\n",
    "    else:\n",
    "        tab = np.zeros(((lim-i+1),(lim-j+1)))\n",
    "                \n",
    "        for a in range(lim-i+1):\n",
    "            for b in range(lim-j+1):\n",
    "                if(a<6*D):\n",
    "                    tab[a][b]=1\n",
    "                elif(a==6*D):\n",
    "                    if(b>=6*D):\n",
    "                        tab[a][b]=1\n",
    "                    else:\n",
    "                        tab[a][b]=-1\n",
    "                elif((6*D<a)&(b<6*D)):\n",
    "                    tab[a][b]=-1\n",
    "        #print(\"heelo\",tab)\n",
    "        for c in range(6*D+1,lim-i+1):\n",
    "            for d in range(6*D,lim-j+1):\n",
    "                if tab[c][d]==0:\n",
    "                    res = 0\n",
    "                    for d1 in range(1,D+1):\n",
    "                        for d2 in range(1,D+1):\n",
    "                            res += tab_P[d1-1][0]*tab_P[d2-1][0] * tab[c-1][d-1]\n",
    "                            #print(\"res1\",res,\"§§§\",tab[c-1][d-1])\n",
    "                            for e in range(2*d1,6*d1+1):\n",
    "                                res += tab[c-e][d-1] / (4*d1+1) * tab_P[d1-1][e-1]*tab_P[d2-1][0]\n",
    "                            #print(\"res2\",res)\n",
    "                            for f in range(2*d2,6*d2+1):\n",
    "                                res += tab[c-1][d-f] / (4*d2+1) * tab_P[d2-1][f-1]*tab_P[d1-1][0]\n",
    "                            #print(\"res3\",res)\n",
    "                            for e1 in range(2*d1, 6*d1+1):\n",
    "                                for f1 in range(2*d2,6*d2+1):\n",
    "                                    res += tab[c-e1][d-f1] / ((4*d1+1)*(4*d2+1)) * tab_P[d1-1][e1-1]*tab_P[d2-1][f1-1]\n",
    "                            #print(\"res4\",res)\n",
    "                tab[c][d]=res/100\n",
    "        #print(\"bye\",tab.shape,tab)\n",
    "        return tab[lim-i][lim-j]\n",
    "        \n",
    "              \n",
    "            \n",
    "\n",
    "    \n",
    "\n"
   ]
  },
  {
   "cell_type": "code",
   "execution_count": 165,
   "metadata": {},
   "outputs": [
    {
     "name": "stdout",
     "output_type": "stream",
     "text": [
      "1\n",
      "0.9999999999999786\n",
      "0.9941934548071523\n",
      "0.9901037548277974\n",
      "0.9896624713762225\n",
      "0.36717526293443087\n",
      "0.31685084226803284\n",
      "0.3029416684874429\n",
      "-0.31470565855743793\n"
     ]
    }
   ],
   "source": [
    "print(EG(99,1))\n",
    "print(EG(98,1))\n",
    "print(EG(97,1))\n",
    "print(EG(96,1))\n",
    "print(EG(95,1))\n",
    "print(EG(50,50))\n",
    "print(EG(20,20))\n",
    "print(EG(0,0))\n",
    "print(EG(5,40))"
   ]
  },
  {
   "cell_type": "code",
   "execution_count": 190,
   "metadata": {},
   "outputs": [
    {
     "name": "stdout",
     "output_type": "stream",
     "text": [
      "0.33868074339894993\n",
      "0.11669289981300952\n",
      "0.3464241139515476\n"
     ]
    }
   ],
   "source": [
    "print(EG(98,98))\n",
    "print(EG(97,97))\n",
    "print(EG(98,96))"
   ]
  },
  {
   "cell_type": "code",
   "execution_count": null,
   "metadata": {},
   "outputs": [],
   "source": [
    "#Q7\n",
    "\n",
    "def strategie_aveugle():\n",
    "    return 6\n",
    "\n",
    "\n",
    "#def strategie_optimale(i,j):\n",
    "    "
   ]
  },
  {
   "cell_type": "code",
   "execution_count": null,
   "metadata": {},
   "outputs": [],
   "source": []
  }
 ],
 "metadata": {
  "kernelspec": {
   "display_name": "Python 3",
   "language": "python",
   "name": "python3"
  },
  "language_info": {
   "codemirror_mode": {
    "name": "ipython",
    "version": 3
   },
   "file_extension": ".py",
   "mimetype": "text/x-python",
   "name": "python",
   "nbconvert_exporter": "python",
   "pygments_lexer": "ipython3",
   "version": "3.7.4"
  }
 },
 "nbformat": 4,
 "nbformat_minor": 2
}
