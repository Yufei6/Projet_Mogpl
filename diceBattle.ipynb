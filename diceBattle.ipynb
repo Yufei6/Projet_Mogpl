{
 "cells": [
  {
   "cell_type": "code",
   "execution_count": 6,
   "metadata": {},
   "outputs": [],
   "source": [
    "#Projet Mogpl M1 Informatique\n",
    "#Dice Battle\n",
    "\n",
    "#Yuhan WANG & Yufei LIU"
   ]
  },
  {
   "cell_type": "code",
   "execution_count": 7,
   "metadata": {},
   "outputs": [],
   "source": [
    "import numpy as np\n",
    "import matplotlib.pyplot as plt\n",
    "import math\n",
    "import random\n",
    "import sys\n",
    "from gurobipy import *\n",
    "\n",
    "\n",
    "#variable global N est le point cible et D est le nombre de dés qu'on peut lancer maximument chaque fois\n",
    "#LP = ligne perdu signifie que si joueur1 a moins de cette ligne et joueur 2 a N-1 point alors joueur1 a perdu\n",
    "N = 100\n",
    "D = 10\n",
    "LP = N - 6 * D\n",
    "\n",
    "#Q1\n",
    "class tab_p(object):\n",
    "    \n",
    "    def __init__(self, d):\n",
    "        \"\"\"\n",
    "        entrée : le nombre de dés\n",
    "        sortie : Q_tab et P_tab initialisé\n",
    "        \"\"\"\n",
    "        self.D = d\n",
    "        self.Q_tab=np.ones((self.D+1,6*self.D+1))*-1\n",
    "        for a in range(0,6*self.D+1):\n",
    "            self.Q_tab[0,a]=0\n",
    "        for b in range(0,self.D+1):\n",
    "            self.Q_tab[b,0]=0\n",
    "        for i in range (2,7):\n",
    "            #la propabilité d'obtenir 1 avec d dés\n",
    "            self.Q_tab[1,i]=1/5\n",
    "        \n",
    "        self.P_tab=np.ones((self.D+1,6*self.D+1))*-2\n",
    "        for c in range(0,self.D+1):\n",
    "            self.P_tab[c,0]=0\n",
    "            self.P_tab[c,1]=1-np.power(5/6,c)\n",
    "        for d in range(0,6*self.D+1):\n",
    "            self.P_tab[0,d]=0\n",
    "            \n",
    "            \n",
    "    def Q(self,d,k):\n",
    "        if d<=0:\n",
    "            return 0\n",
    "        if k<=0 | ((k>1) & (k<2*d)) | k>6*d :\n",
    "            return 0\n",
    "        else:\n",
    "            if(self.Q_tab[d,k]!=-1):\n",
    "                #print(d,k,Q_tab[d,k])\n",
    "                return self.Q_tab[d,k]\n",
    "            else:\n",
    "                res = 0\n",
    "                for j in range(2,7):\n",
    "                    #print(d-1,k-j)\n",
    "                    if(self.Q_tab[d-1,k-j]==-1):\n",
    "                        self.Q_tab[d-1,k-j]=self.Q(d-1,k-j)\n",
    "                    res += self.Q(d-1,k-j)\n",
    "                return res/5\n",
    "            \n",
    "    def P(self,d,k):\n",
    "        if(k==1):\n",
    "            return self.P_tab[d,1]\n",
    "        if self.P_tab[d,k]!=-2:\n",
    "            return self.P_tab[d,k]\n",
    "        else:\n",
    "            self.P_tab[d,k]=(5/6)**d*self.Q(d,k)\n",
    "            return self.P_tab[d,k]\n",
    "\n",
    "    \n",
    "    \n",
    "global TAB_P\n",
    "TAB_P = tab_p(D)"
   ]
  },
  {
   "cell_type": "code",
   "execution_count": 8,
   "metadata": {},
   "outputs": [
    {
     "name": "stdout",
     "output_type": "stream",
     "text": [
      "8.63567386831276\n",
      "8.702653463648836\n"
     ]
    }
   ],
   "source": [
    "#Q2\n",
    "\n",
    "def calcul_EP(d):\n",
    "    return 4*d*(5/6)**d + 1 - (5/6)**d\n",
    "\n",
    "print(calcul_EP(5))\n",
    "print(calcul_EP(6))\n",
    "#On doit choisir d*=6 car EP(6) est supérieur de EP(5)\n",
    "\n",
    "\n"
   ]
  },
  {
   "cell_type": "code",
   "execution_count": 9,
   "metadata": {},
   "outputs": [],
   "source": [
    "class strategie_optimal(object):\n",
    "    def __init__(self, D, N):\n",
    "        self.N = N\n",
    "        self.D = D\n",
    "        self.tab = np.ones((N,N))*100\n",
    "        self.best_choice = np.zeros((N,N))\n",
    "        global TAB_P\n",
    "        if D>TAB_P.D:\n",
    "            TAB_P = tab_p(D)\n",
    "         \n",
    "    def EG(self,i,j):\n",
    "        if(i>=self.N):\n",
    "            return 1\n",
    "        elif(j>=self.N):\n",
    "            return -1\n",
    "        elif self.tab[i][j]<100:\n",
    "            return self.tab[i][j]\n",
    "        \n",
    "        exps=[]\n",
    "        for d1 in range(1,self.D+1):\n",
    "            exp=0\n",
    "            for e1 in range(1,6*d1+1):\n",
    "                exp += TAB_P.P(d1,e1) * self.EG(j,i+e1)\n",
    "            exps.append(-exp)\n",
    "        self.tab[i][j]=max(exps)\n",
    "        self.best_choice[i][j]=int(np.argmax(exps)+1)\n",
    "        #self.best_choice[i][j]=int(np.argmax(exps))\n",
    "        return self.tab[i][j]\n",
    "    \n",
    "    def choice_optimal(self,i,j):\n",
    "        if self.best_choice[i][j]<1:\n",
    "            t = self.EG(i,j)\n",
    "        return self.best_choice[i][j]\n",
    "    "
   ]
  },
  {
   "cell_type": "code",
   "execution_count": 10,
   "metadata": {},
   "outputs": [],
   "source": [
    "#Q7\n",
    "class strategie_aveugle(object):\n",
    "    def __init__(self, D, N):\n",
    "        self.N = N\n",
    "        self.D = D\n",
    "        \n",
    "    def choice_optimal(self,i,j):\n",
    "        if self.D > 5:\n",
    "            return 6\n",
    "        return self.D\n",
    "    \n",
    "stra_opt1 = strategie_optimal(10,100)\n",
    "stra_opt1 = strategie_optimal(10,100)\n",
    "#def strategie_optimale(i,j):\n"
   ]
  },
  {
   "cell_type": "code",
   "execution_count": 11,
   "metadata": {},
   "outputs": [],
   "source": [
    "#Q8\n",
    "def get_random_score(d):\n",
    "    res = 0\n",
    "    for i in range(d):\n",
    "        tmp = random.randint(1 , 6)\n",
    "        if(tmp==1):\n",
    "            return 1\n",
    "        res += tmp\n",
    "    return res\n",
    "\n",
    "\n",
    "def game_ai(n,stra1,stra2,from_i, from_j):\n",
    "    state=[from_i,from_j]\n",
    "    while(state[1]<n)&(state[0]<n):\n",
    "        #print(\"Score of player1: \",state[0],\"\\n Score of player2: \",state[1],\"\\n\")\n",
    "        d1 = int(stra1.choice_optimal(state[0],state[1]))\n",
    "        p1 = get_random_score(d1)\n",
    "        #temp = state[0]\n",
    "        state[0] += p1\n",
    "        #print(\"AI111 get \",p1, \"score with \",d1,\" dice(s)!\\n\")\n",
    "        if(state[0]>=n):\n",
    "            return 1\n",
    "        d2 = int(stra2.choice_optimal(state[1],state[0]))\n",
    "        p2 = get_random_score(d2)\n",
    "        state[1] += p2\n",
    "        #print(\"AI222 get \",p2, \"score with \",d2,\" dice(s)!\\n\")\n",
    "        if(state[1]>=n):\n",
    "            return -1\n",
    "    \"\"\"if state[0]>=n:\n",
    "        return 1\n",
    "    else:\n",
    "        return -1\"\"\"\n",
    "\n",
    "        \n",
    "\n",
    "def test_D(D,N):\n",
    "    n_test = 1000\n",
    "    n_intervalle = 10\n",
    "    ds = [ int(D*i/n_intervalle) for i in range(1,1+n_intervalle)]\n",
    "    res = np.zeros((4,n_intervalle))\n",
    "    #res = [aa,ao,oa,oo]\n",
    "    for di in range(len(ds)):\n",
    "        res_aa = 0\n",
    "        res_ao = 0\n",
    "        res_oa = 0\n",
    "        res_oo = 0\n",
    "        stra_opt = strategie_optimal(ds[di],N)\n",
    "        stra_avg = strategie_aveugle(ds[di],N)\n",
    "        for i in range(n_test):\n",
    "            res_aa += game_ai(N,stra_avg,stra_avg,0,0)\n",
    "            res_ao += game_ai(N,stra_avg,stra_opt,0,0)\n",
    "            res_oa += game_ai(N,stra_opt,stra_avg,0,0)\n",
    "            res_oo += game_ai(N,stra_opt,stra_opt,0,0)\n",
    "            \n",
    "        res[0][di] = res_aa / n_test\n",
    "        res[1][di] = res_ao / n_test\n",
    "        res[2][di] = res_oa / n_test\n",
    "        res[3][di] = res_oo / n_test\n",
    "        \n",
    "    plt.plot(ds , res[0], c='r')\n",
    "    plt.xlabel(\"nombre de dé possible\")\n",
    "    plt.ylabel(\"variance de gain J1\")\n",
    "    plt.title(\"J1 aveugle & J2 aveugle\")\n",
    "    plt.show()\n",
    "    \n",
    "    plt.plot(ds , res[1], c='blue')\n",
    "    plt.xlabel(\"nombre de dé possible\")\n",
    "    plt.ylabel(\"variance de gain J1\")\n",
    "    plt.title(\"J1 aveugle & J2 optimal\")\n",
    "    plt.show()\n",
    "    \n",
    "    plt.plot(ds , res[2], c='y')\n",
    "    plt.xlabel(\"nombre de dé possible\")\n",
    "    plt.ylabel(\"variance de gain J1\")\n",
    "    plt.title(\"J1 optimal & J2 aveugle\")\n",
    "    plt.show()\n",
    "    \n",
    "    plt.plot(ds , res[3], c='black')\n",
    "    plt.xlabel(\"nombre de dé possible\")\n",
    "    plt.ylabel(\"variance de gain J1\")\n",
    "    plt.title(\"J1 optimal & J2 optimal\")\n",
    "    plt.show()\n",
    "    return res\n",
    "    \n",
    "\n",
    "    \n",
    "def test_N(D,N):\n",
    "    n_test = 1000\n",
    "    n_intervalle = 10\n",
    "    ns = [ int(N*i/n_intervalle) for i in range(1,1+n_intervalle)]\n",
    "    res = np.zeros((4,n_intervalle))\n",
    "    #stra_opt = strategie_optimal(D,N)\n",
    "    #res = [aa,ao,oa,oo]\n",
    "    stra_opt = strategie_optimal(D,N)\n",
    "    stra_avg = strategie_aveugle(D,N)\n",
    "    for ni in range(len(ns)):\n",
    "        res_aa = 0\n",
    "        res_ao = 0\n",
    "        res_oa = 0\n",
    "        res_oo = 0\n",
    "        for i in range(n_test):\n",
    "            res_aa += game_ai(N,stra_avg,stra_avg,N-ns[ni],N-ns[ni])\n",
    "            res_ao += game_ai(N,stra_avg,stra_opt,N-ns[ni],N-ns[ni])\n",
    "            res_oa += game_ai(N,stra_opt,stra_avg,N-ns[ni],N-ns[ni])\n",
    "            res_oo += game_ai(N,stra_opt,stra_opt,N-ns[ni],N-ns[ni])\n",
    "            \n",
    "        res[0][ni] = res_aa / n_test\n",
    "        res[1][ni] = res_ao / n_test\n",
    "        res[2][ni] = res_oa / n_test\n",
    "        res[3][ni] = res_oo / n_test\n",
    "        \n",
    "    plt.plot(ns , res[0], c='r')\n",
    "    plt.xlabel(\"ligne N pour gagner\")\n",
    "    plt.ylabel(\"variance de gain J1\")\n",
    "    plt.title(\"J1 aveugle & J2 aveugle\")\n",
    "    plt.show()\n",
    "    \n",
    "    plt.plot(ns , res[1], c='blue')\n",
    "    plt.xlabel(\"ligne N pour gagner\")\n",
    "    plt.ylabel(\"variance de gain J1\")\n",
    "    plt.title(\"J1 aveugle & J2 optimal\")\n",
    "    plt.show()\n",
    "    \n",
    "    plt.plot(ns , res[2], c='y')\n",
    "    plt.xlabel(\"ligne N pour gagner\")\n",
    "    plt.ylabel(\"variance de gain J1\")\n",
    "    plt.title(\"J1 optimal & J2 aveugle\")\n",
    "    plt.show()\n",
    "    \n",
    "    plt.plot(ns , res[3], c='black')\n",
    "    plt.xlabel(\"ligne N pour gagner\")\n",
    "    plt.ylabel(\"variance de gain J1\")\n",
    "    plt.title(\"J1 optimal & J2 optimal\")\n",
    "    plt.show()\n",
    "    return res"
   ]
  },
  {
   "cell_type": "code",
   "execution_count": 12,
   "metadata": {},
   "outputs": [],
   "source": [
    "stra_opt = strategie_optimal(10,100)"
   ]
  },
  {
   "cell_type": "code",
   "execution_count": 13,
   "metadata": {},
   "outputs": [
    {
     "data": {
      "text/plain": [
       "6.0"
      ]
     },
     "execution_count": 13,
     "metadata": {},
     "output_type": "execute_result"
    }
   ],
   "source": [
    "stra_opt.choice_optimal(0,0)"
   ]
  },
  {
   "cell_type": "code",
   "execution_count": 9,
   "metadata": {},
   "outputs": [
    {
     "data": {
      "image/png": "[encoded data removed]",
      "text/plain": [
       "<Figure size 432x288 with 1 Axes>"
      ]
     },
     "metadata": {
      "needs_background": "light"
     },
     "output_type": "display_data"
    },
    {
     "data": {
      "image/png": "[encoded data removed]",
      "text/plain": [
       "<Figure size 432x288 with 1 Axes>"
      ]
     },
     "metadata": {
      "needs_background": "light"
     },
     "output_type": "display_data"
    },
    {
     "data": {
      "image/png": "[encoded data removed]",
      "text/plain": [
       "<Figure size 432x288 with 1 Axes>"
      ]
     },
     "metadata": {
      "needs_background": "light"
     },
     "output_type": "display_data"
    },
    {
     "data": {
      "image/png": "[encoded data removed]",
      "text/plain": [
       "<Figure size 432x288 with 1 Axes>"
      ]
     },
     "metadata": {
      "needs_background": "light"
     },
     "output_type": "display_data"
    },
    {
     "data": {
      "text/plain": [
       "array([[ 0.06 ,  0.074,  0.074,  0.044,  0.02 ,  0.084,  0.062,  0.018,\n",
       "         0.082,  0.068],\n",
       "       [ 0.01 ,  0.11 ,  0.074,  0.072, -0.024, -0.01 , -0.046, -0.04 ,\n",
       "         0.   , -0.03 ],\n",
       "       [ 0.07 ,  0.128,  0.046,  0.102,  0.09 ,  0.07 ,  0.134,  0.176,\n",
       "         0.154,  0.174],\n",
       "       [ 0.054,  0.05 ,  0.038,  0.004,  0.094,  0.114,  0.048,  0.02 ,\n",
       "         0.014,  0.038]])"
      ]
     },
     "execution_count": 9,
     "metadata": {},
     "output_type": "execute_result"
    }
   ],
   "source": [
    "test_D(10,200)"
   ]
  },
  {
   "cell_type": "code",
   "execution_count": 10,
   "metadata": {},
   "outputs": [
    {
     "data": {
      "image/png": "[encoded data removed]",
      "text/plain": [
       "<Figure size 432x288 with 1 Axes>"
      ]
     },
     "metadata": {
      "needs_background": "light"
     },
     "output_type": "display_data"
    },
    {
     "data": {
      "image/png": "[encoded data removed]",
      "text/plain": [
       "<Figure size 432x288 with 1 Axes>"
      ]
     },
     "metadata": {
      "needs_background": "light"
     },
     "output_type": "display_data"
    },
    {
     "data": {
      "image/png": "[encoded data removed]",
      "text/plain": [
       "<Figure size 432x288 with 1 Axes>"
      ]
     },
     "metadata": {
      "needs_background": "light"
     },
     "output_type": "display_data"
    },
    {
     "data": {
      "image/png": "[encoded data removed]",
      "text/plain": [
       "<Figure size 432x288 with 1 Axes>"
      ]
     },
     "metadata": {
      "needs_background": "light"
     },
     "output_type": "display_data"
    },
    {
     "data": {
      "text/plain": [
       "array([[ 0.166,  0.106,  0.09 ,  0.056,  0.05 ,  0.076,  0.074,  0.062,\n",
       "         0.022,  0.044],\n",
       "       [ 0.164, -0.03 , -0.068, -0.082, -0.022, -0.086, -0.056, -0.062,\n",
       "        -0.03 , -0.03 ],\n",
       "       [ 0.204,  0.25 ,  0.314,  0.2  ,  0.206,  0.192,  0.142,  0.162,\n",
       "         0.11 ,  0.11 ],\n",
       "       [ 0.164,  0.09 ,  0.084,  0.06 ,  0.082,  0.082,  0.084, -0.008,\n",
       "         0.034,  0.014]])"
      ]
     },
     "execution_count": 10,
     "metadata": {},
     "output_type": "execute_result"
    }
   ],
   "source": [
    "test_N(10,200)"
   ]
  },
  {
   "cell_type": "code",
   "execution_count": 14,
   "metadata": {},
   "outputs": [
    {
     "name": "stdout",
     "output_type": "stream",
     "text": [
      "0.06871904732303523\n"
     ]
    }
   ],
   "source": [
    "#print(stra_opt1.EG(95,95))\n",
    "[stra_opt1.EG(i,99) for i in range(0,100)]\n",
    "print(stra_opt1.EG(0,0))"
   ]
  },
  {
   "cell_type": "code",
   "execution_count": 15,
   "metadata": {},
   "outputs": [],
   "source": [
    "#Q9\n",
    "class game(object):\n",
    "    def __init__(self, D, N):\n",
    "        self.N = N\n",
    "        self.D = D\n",
    "        self.tab = np.ones((N,N))*100\n",
    "        \n",
    "    \n",
    "    def start_conter_ai(self,strategie):\n",
    "        state=[0,0]\n",
    "        tour = 0\n",
    "        while(state[1]<self.N)&(state[0]<self.N):\n",
    "            tour += 1\n",
    "            print(\"*****************************************\\n\")\n",
    "            print(\"Tour:\",tour, \"\\n Score of player1: \",state[0],\"\\n Score of player2: \",state[1],\"\\n Score of target: \",self.N )\n",
    "            print(\"You can make a choice between 1 and \",self.D,\" for this round:\")\n",
    "            d1 = int(input())\n",
    "            p1 = get_random_score(d1)\n",
    "            print(\"You get \",p1, \"score with \",d1, \" dice(s)!\\n\")\n",
    "            state[0]+=p1\n",
    "            if(state[0]>=self.N):\n",
    "                break\n",
    "            d2 = int(strategie.choice_optimal(state[1],state[0]))\n",
    "            p2 = get_random_score(d2)\n",
    "            print(\"AI get \",p2, \"score with \",d2,\" dice(s)!\\n\")\n",
    "            state[1]+=p2\n",
    "            print(\"\\n\\n\\n\\n\\n\\n\")\n",
    "            \n",
    "        if state[0]>=self.N:\n",
    "            print(\"You win\")\n",
    "        else:\n",
    "            print(\"•••You lose•••\")\n",
    "            \n",
    "    def start(self):\n",
    "        pygame.init()\n",
    "        screen = pygame.display.set_mode((640,480),0,32)\n",
    "        pygame.display.set_caption(\"Dice Battle\")\n",
    "        dice = pygame.image.load(\"img/dice_0.jpg\")\n",
    "        print(dice)\n",
    "        dice_x, dice_y = 0, 0  \n",
    "        h_direction = 1  \n",
    "        speed = 10\n",
    "        width = 844\n",
    "        while 1:\n",
    "            for event in pygame.event.get():\n",
    "                if event.type == pygame.QUIT:\n",
    "                    pygame.quit()\n",
    "            \n",
    "            screen.blit(dice, (dice_x, dice_y))\n",
    "            dice_x += speed * h_direction\n",
    "            if dice_x > width:\n",
    "                h_direction = -h_direction\n",
    "            elif dice_x < 0:\n",
    "                h_direction = -h_direction\n",
    "            pygame.display.update()\n",
    "            \n",
    "\n",
    "        \n",
    "\n"
   ]
  },
  {
   "cell_type": "code",
   "execution_count": 44,
   "metadata": {},
   "outputs": [
    {
     "name": "stdout",
     "output_type": "stream",
     "text": [
      "*****************************************\n",
      "\n",
      "Tour: 1 \n",
      " Score of player1:  0 \n",
      " Score of player2:  0 \n",
      " Score of target:  100\n",
      "You can make a choice between 1 and  10  for this round:\n",
      "6\n",
      "You get  27 score with  6  dice(s)!\n",
      "\n",
      "AI get  1 score with  6  dice(s)!\n",
      "\n",
      "\n",
      "\n",
      "\n",
      "\n",
      "\n",
      "\n",
      "\n",
      "*****************************************\n",
      "\n",
      "Tour: 2 \n",
      " Score of player1:  27 \n",
      " Score of player2:  1 \n",
      " Score of target:  100\n",
      "You can make a choice between 1 and  10  for this round:\n",
      "6\n",
      "You get  23 score with  6  dice(s)!\n",
      "\n",
      "AI get  1 score with  6  dice(s)!\n",
      "\n",
      "\n",
      "\n",
      "\n",
      "\n",
      "\n",
      "\n",
      "\n",
      "*****************************************\n",
      "\n",
      "Tour: 3 \n",
      " Score of player1:  50 \n",
      " Score of player2:  2 \n",
      " Score of target:  100\n",
      "You can make a choice between 1 and  10  for this round:\n",
      "6\n",
      "You get  23 score with  6  dice(s)!\n",
      "\n",
      "AI get  25 score with  7  dice(s)!\n",
      "\n",
      "\n",
      "\n",
      "\n",
      "\n",
      "\n",
      "\n",
      "\n",
      "*****************************************\n",
      "\n",
      "Tour: 4 \n",
      " Score of player1:  73 \n",
      " Score of player2:  27 \n",
      " Score of target:  100\n",
      "You can make a choice between 1 and  10  for this round:\n",
      "6\n",
      "You get  24 score with  6  dice(s)!\n",
      "\n",
      "AI get  1 score with  7  dice(s)!\n",
      "\n",
      "\n",
      "\n",
      "\n",
      "\n",
      "\n",
      "\n",
      "\n",
      "*****************************************\n",
      "\n",
      "Tour: 5 \n",
      " Score of player1:  97 \n",
      " Score of player2:  28 \n",
      " Score of target:  100\n",
      "You can make a choice between 1 and  10  for this round:\n",
      "6\n",
      "You get  1 score with  6  dice(s)!\n",
      "\n",
      "AI get  30 score with  7  dice(s)!\n",
      "\n",
      "\n",
      "\n",
      "\n",
      "\n",
      "\n",
      "\n",
      "\n",
      "*****************************************\n",
      "\n",
      "Tour: 6 \n",
      " Score of player1:  98 \n",
      " Score of player2:  58 \n",
      " Score of target:  100\n",
      "You can make a choice between 1 and  10  for this round:\n",
      "6\n",
      "You get  1 score with  6  dice(s)!\n",
      "\n",
      "AI get  1 score with  7  dice(s)!\n",
      "\n",
      "\n",
      "\n",
      "\n",
      "\n",
      "\n",
      "\n",
      "\n",
      "*****************************************\n",
      "\n",
      "Tour: 7 \n",
      " Score of player1:  99 \n",
      " Score of player2:  59 \n",
      " Score of target:  100\n",
      "You can make a choice between 1 and  10  for this round:\n",
      "6\n",
      "You get  18 score with  6  dice(s)!\n",
      "\n",
      "You win\n"
     ]
    }
   ],
   "source": [
    "game1 = game(10,100)\n",
    "game1.start_conter_ai(stra_opt1)"
   ]
  },
  {
   "cell_type": "code",
   "execution_count": 18,
   "metadata": {},
   "outputs": [],
   "source": [
    "game2 = game(10,100)\n",
    "#game2.start()\n"
   ]
  },
  {
   "cell_type": "code",
   "execution_count": 250,
   "metadata": {},
   "outputs": [],
   "source": [
    "#Q10\n",
    "D1=3\n",
    "#TAB_P1 = tab_p(D1).P_tab\n",
    "EG1=np.ones((D1,D1))*-1\n",
    "\n",
    "def calculer_EG1(D,tab):\n",
    "    for i in range(1,D1+1):\n",
    "        for j in range(1,D1+1):\n",
    "            gain=0\n",
    "            perd=0\n",
    "            moin=0\n",
    "            plus=0\n",
    "            for a in range(1,6*i+1):\n",
    "                for b in range(1,6*j+1):\n",
    "                    if(a>b):\n",
    "                        plus+=1\n",
    "                        gain+=tab.P(i,a)*tab.P(j,b)\n",
    "                    else:\n",
    "                        if(a<b):\n",
    "                            moin+=1\n",
    "                            perd+=tab.P(i,a)*tab.P(j,b)\n",
    "            if(i==j):\n",
    "                EG1[i-1,j-1]=0\n",
    "            else:\n",
    "                EG1[i-1,j-1]=gain-perd\n",
    "    return EG1\n"
   ]
  },
  {
   "cell_type": "code",
   "execution_count": 251,
   "metadata": {},
   "outputs": [
    {
     "name": "stdout",
     "output_type": "stream",
     "text": [
      "0.6666666666666666\n"
     ]
    }
   ],
   "source": [
    "print(2/3)"
   ]
  },
  {
   "cell_type": "code",
   "execution_count": 258,
   "metadata": {},
   "outputs": [],
   "source": [
    "#Q13\n",
    "def proglineaire(D):\n",
    "    \n",
    "    nb_prob = D.shape[0]\n",
    "    \n",
    "    q = []\n",
    "    \n",
    "    #matrice de contrainte\n",
    "    m = Model(\"s0\")\n",
    "    alpha = m.addVar(vtype=GRB.CONTINUOUS, name=\"alpha\") \n",
    "    m.setObjective(alpha,GRB.MINIMIZE)\n",
    "    \n",
    "    #le somme des probabilitées egalent à 1\n",
    "    for i in range(nb_prob):\n",
    "        q.append(m.addVar(vtype=GRB.CONTINUOUS,lb=0,ub=1,name=\"p%d\"%(i+1)))\n",
    "        #res=LinExpr()\n",
    "\n",
    "    \n",
    "    for i in range(nb_prob):\n",
    "        expr = LinExpr()\n",
    "        for j in range(nb_prob): \n",
    "            #expr+=D[i,j]*q[j]*(-1) #5:0.61 10:1\n",
    "            #expr+=D[i,j]*q[j] #5:0.771 10:normal\n",
    "            #print(\"D\",D[j,i],j)\n",
    "            expr+=D[j,i]*q[j]*(-1)   \n",
    "        m.addConstr(alpha>=expr)\n",
    "        \n",
    "    expr1 = LinExpr()\n",
    "    for i in range(nb_prob):\n",
    "        expr1+=q[i]\n",
    "    m.addConstr(expr1==1)\n",
    "    \n",
    "    \n",
    "        \n",
    "    m.optimize()\n",
    "    print(\"solution optimale:\",q) "
   ]
  },
  {
   "cell_type": "code",
   "execution_count": 259,
   "metadata": {},
   "outputs": [
    {
     "name": "stdout",
     "output_type": "stream",
     "text": [
      "Gurobi Optimizer version 9.0.0 build v9.0.0rc2 (mac64)\n",
      "Optimize a model with 4 rows, 4 columns and 12 nonzeros\n",
      "Model fingerprint: 0x58ffbac4\n",
      "Coefficient statistics:\n",
      "  Matrix range     [2e-01, 1e+00]\n",
      "  Objective range  [1e+00, 1e+00]\n",
      "  Bounds range     [1e+00, 1e+00]\n",
      "  RHS range        [1e+00, 1e+00]\n",
      "Presolve removed 1 rows and 0 columns\n",
      "Presolve time: 0.00s\n",
      "Presolved: 3 rows, 4 columns, 9 nonzeros\n",
      "\n",
      "Iteration    Objective       Primal Inf.    Dual Inf.      Time\n",
      "       0    0.0000000e+00   1.988169e-01   0.000000e+00      0s\n",
      "       1    0.0000000e+00   0.000000e+00   0.000000e+00      0s\n",
      "\n",
      "Solved in 1 iterations and 0.01 seconds\n",
      "Optimal objective  0.000000000e+00\n",
      "solution optimale: [<gurobi.Var p1 (value 0.0)>, <gurobi.Var p2 (value 0.0)>, <gurobi.Var p3 (value 1.0)>]\n",
      "None\n"
     ]
    }
   ],
   "source": [
    "temp=calculer_EG1(D1,TAB_P)\n",
    "print(proglineaire(temp))"
   ]
  },
  {
   "cell_type": "code",
   "execution_count": 254,
   "metadata": {},
   "outputs": [
    {
     "name": "stdout",
     "output_type": "stream",
     "text": [
      "[[ 0.         -0.375      -0.22685185]\n",
      " [ 0.375       0.         -0.19881687]\n",
      " [ 0.22685185  0.19881687  0.        ]]\n"
     ]
    }
   ],
   "source": [
    "print(temp)"
   ]
  },
  {
   "cell_type": "code",
   "execution_count": 232,
   "metadata": {},
   "outputs": [
    {
     "name": "stdout",
     "output_type": "stream",
     "text": [
      "[-0.01505404  0.42195547  0.46896963  0.29043949 -0.01149704 -0.37789167\n",
      " -0.77692184]\n"
     ]
    }
   ],
   "source": [
    "print(np.sum(temp,axis=1))"
   ]
  },
  {
   "cell_type": "code",
   "execution_count": 54,
   "metadata": {},
   "outputs": [],
   "source": [
    "nb_prob=5\n",
    "q=np.ones(nb_prob).reshape((nb_prob,1))"
   ]
  },
  {
   "cell_type": "code",
   "execution_count": 57,
   "metadata": {},
   "outputs": [
    {
     "name": "stdout",
     "output_type": "stream",
     "text": [
      "[ 0.         -0.375      -0.22685185 -0.05079733  0.09655778]\n",
      "[ 0.375       0.         -0.19881687 -0.11640518  0.0136424 ]\n",
      "[ 0.22685185  0.19881687  0.         -0.10027292 -0.04524844]\n",
      "[ 0.05079733  0.11640518  0.10027292  0.         -0.04477462]\n",
      "[-0.09655778 -0.0136424   0.04524844  0.04477462  0.        ]\n"
     ]
    }
   ],
   "source": [
    "for i in range(nb_prob):\n",
    "    print(temp[i,:]*q[:,0])"
   ]
  },
  {
   "cell_type": "code",
   "execution_count": null,
   "metadata": {},
   "outputs": [],
   "source": []
  }
 ],
 "metadata": {
  "kernelspec": {
   "display_name": "Python 3",
   "language": "python",
   "name": "python3"
  },
  "language_info": {
   "codemirror_mode": {
    "name": "ipython",
    "version": 3
   },
   "file_extension": ".py",
   "mimetype": "text/x-python",
   "name": "python",
   "nbconvert_exporter": "python",
   "pygments_lexer": "ipython3",
   "version": "3.7.4"
  }
 },
 "nbformat": 4,
 "nbformat_minor": 2
}
