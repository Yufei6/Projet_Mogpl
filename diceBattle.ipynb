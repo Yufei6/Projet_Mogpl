{
 "cells": [
  {
   "cell_type": "code",
   "execution_count": null,
   "metadata": {},
   "outputs": [],
   "source": [
    "#Projet Mogpl M1 Informatique\n",
    "#Dice Battle\n",
    "\n",
    "#Yuhan WANG & Yufei LIU"
   ]
  },
  {
   "cell_type": "code",
   "execution_count": 35,
   "metadata": {},
   "outputs": [
    {
     "name": "stdout",
     "output_type": "stream",
     "text": [
      "0.2\n",
      "[[1.66666667e-01 1.66666667e-01 1.66666667e-01 1.66666667e-01\n",
      "  1.66666667e-01 1.66666667e-01 0.00000000e+00 0.00000000e+00\n",
      "  0.00000000e+00 0.00000000e+00 0.00000000e+00 0.00000000e+00\n",
      "  0.00000000e+00 0.00000000e+00 0.00000000e+00 0.00000000e+00\n",
      "  0.00000000e+00 0.00000000e+00 0.00000000e+00 0.00000000e+00]\n",
      " [3.05555556e-01 0.00000000e+00 0.00000000e+00 2.77777778e-02\n",
      "  5.55555556e-02 8.33333333e-02 1.11111111e-01 1.38888889e-01\n",
      "  1.11111111e-01 8.33333333e-02 5.55555556e-02 2.77777778e-02\n",
      "  0.00000000e+00 0.00000000e+00 0.00000000e+00 0.00000000e+00\n",
      "  0.00000000e+00 0.00000000e+00 0.00000000e+00 0.00000000e+00]\n",
      " [4.21296296e-01 0.00000000e+00 0.00000000e+00 0.00000000e+00\n",
      "  0.00000000e+00 4.62962963e-03 1.38888889e-02 2.77777778e-02\n",
      "  4.62962963e-02 6.94444444e-02 8.33333333e-02 8.79629630e-02\n",
      "  8.33333333e-02 6.94444444e-02 4.62962963e-02 2.77777778e-02\n",
      "  1.38888889e-02 4.62962963e-03 0.00000000e+00 0.00000000e+00]\n",
      " [5.17746914e-01 0.00000000e+00 0.00000000e+00 0.00000000e+00\n",
      "  0.00000000e+00 0.00000000e+00 0.00000000e+00 7.71604938e-04\n",
      "  3.08641975e-03 7.71604938e-03 1.54320988e-02 2.70061728e-02\n",
      "  4.01234568e-02 5.24691358e-02 6.17283951e-02 6.55864198e-02\n",
      "  6.17283951e-02 5.24691358e-02 4.01234568e-02 2.70061728e-02]\n",
      " [5.98122428e-01 0.00000000e+00 0.00000000e+00 0.00000000e+00\n",
      "  0.00000000e+00 0.00000000e+00 0.00000000e+00 0.00000000e+00\n",
      "  0.00000000e+00 1.28600823e-04 6.43004115e-04 1.92901235e-03\n",
      "  4.50102881e-03 9.00205761e-03 1.55606996e-02 2.37911523e-02\n",
      "  3.27932099e-02 4.11522634e-02 4.69393004e-02 4.89969136e-02]]\n"
     ]
    }
   ],
   "source": [
    "import numpy as np\n",
    "import matplotlib.pyplot as plt\n",
    "import math\n",
    "\n",
    "#Q1\n",
    "def Q(d,k):\n",
    "    if k<=0 | ((k>1) & (k<2*d)) | k>6*d :\n",
    "        return 0\n",
    "    elif d==1:\n",
    "        if k>1 & k<7:\n",
    "            return 1/5\n",
    "        else:\n",
    "            return 0\n",
    "    else:\n",
    "        res = 0\n",
    "        for j in range(2,7):\n",
    "            res += Q(d-1,k-j)\n",
    "        return res/5\n",
    "\n",
    "print(Q(2,8))\n",
    "        \n",
    "\n",
    "def calcul_tableau_P(d,k):\n",
    "    values_possibles = [ i for i in range(1,k+1) ]\n",
    "    res = np.zeros((d , k))\n",
    "    #d2 = 2*d\n",
    "    for i in range(d):\n",
    "        for j in range(k):\n",
    "            ii = i+1\n",
    "            jj = j+1\n",
    "            if jj == 1:\n",
    "                res[i][j] = 1 - (5/6)**ii\n",
    "            elif jj < 2*ii:\n",
    "                res[i][j] = 0\n",
    "            else:\n",
    "                res[i][j] = (5/6)**ii * Q(ii,jj)\n",
    "    return res\n",
    "    \n",
    "print(calcul_tableau_P(5,20))"
   ]
  },
  {
   "cell_type": "code",
   "execution_count": null,
   "metadata": {},
   "outputs": [],
   "source": []
  }
 ],
 "metadata": {
  "kernelspec": {
   "display_name": "Python 3",
   "language": "python",
   "name": "python3"
  },
  "language_info": {
   "codemirror_mode": {
    "name": "ipython",
    "version": 3
   },
   "file_extension": ".py",
   "mimetype": "text/x-python",
   "name": "python",
   "nbconvert_exporter": "python",
   "pygments_lexer": "ipython3",
   "version": "3.7.4"
  }
 },
 "nbformat": 4,
 "nbformat_minor": 2
}
