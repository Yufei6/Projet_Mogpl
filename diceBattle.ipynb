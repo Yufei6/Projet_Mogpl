{
 "cells": [
  {
   "cell_type": "code",
   "execution_count": 1,
   "metadata": {},
   "outputs": [],
   "source": [
    "#Projet Mogpl M1 Informatique\n",
    "#Dice Battle\n",
    "\n",
    "#Yuhan WANG & Yufei LIU"
   ]
  },
  {
   "cell_type": "code",
   "execution_count": 2,
   "metadata": {},
   "outputs": [
    {
     "name": "stdout",
     "output_type": "stream",
     "text": [
      "pygame 1.9.6\n",
      "Hello from the pygame community. https://www.pygame.org/contribute.html\n"
     ]
    }
   ],
   "source": [
    "import numpy as np\n",
    "import matplotlib.pyplot as plt\n",
    "import math\n",
    "import random\n",
    "import pygame\n",
    "import sys\n",
    "\n",
    "#variable global N est le point cible et D est le nombre de dés qu'on peut lancer maximument chaque fois\n",
    "#LP = ligne perdu signifie que si joueur1 a moins de cette ligne et joueur 2 a N-1 point alors joueur1 a perdu\n",
    "N = 100\n",
    "D = 10\n",
    "LP = N - 6*D\n",
    "\n",
    "#Q1\n",
    "def initialise_tab(d):\n",
    "    \"\"\"\n",
    "    entrée : le nombre de dés\n",
    "    sortie : Q_tab et P_tab initialisé\n",
    "    \"\"\"\n",
    "    Q_tab=np.ones((D+1,101))*-1\n",
    "    \n",
    "    for a in range(0,101):\n",
    "        Q_tab[0,a]=0\n",
    "    for b in range(0,D+1):\n",
    "        Q_tab[b,0]=0\n",
    "    for i in range (2,7):\n",
    "        #la propabilité d'obtenir 1 avec d dés\n",
    "        Q_tab[1,i]=1/5\n",
    "    \n",
    "    P_tab=np.ones((D+1,101))*-2\n",
    "    for c in range(0,D+1):\n",
    "        P_tab[c,0]=0\n",
    "        P_tab[c,1]=1-np.power(5/6,c)\n",
    "    for d in range(0,101):\n",
    "        P_tab[0,d]=0\n",
    "        \n",
    "        \n",
    "    return Q_tab,P_tab  \n",
    "\n",
    "Q_tab=initialise_tab(D)[0]\n",
    "P_tab= initialise_tab(D)[1]\n",
    "\n",
    "def Q(d,k):\n",
    "    if d<=0:\n",
    "        return 0\n",
    "    if k<=0 | ((k>1) & (k<2*d)) | k>6*d :\n",
    "        return 0\n",
    "    else:\n",
    "        if(Q_tab[d,k]!=-1):\n",
    "            #print(d,k,Q_tab[d,k])\n",
    "            return Q_tab[d,k]\n",
    "        else:\n",
    "            res = 0\n",
    "            for j in range(2,7):\n",
    "                #print(d-1,k-j)\n",
    "                if(Q_tab[d-1,k-j]==-1):\n",
    "                    Q_tab[d-1,k-j]=Q(d-1,k-j)\n",
    "                res += Q(d-1,k-j)\n",
    "            return res/5\n",
    "        \n",
    "        \n",
    "def P(d,k):\n",
    "    if(k==1):\n",
    "        return P_tab[d,1]\n",
    "    if P_tab[d,k]!=-2:\n",
    "        return P_tab[d,k]\n",
    "    else:\n",
    "        P_tab[d,k]=(5/6)**d*Q(d,k)\n",
    "        return P_tab[d,k]"
   ]
  },
  {
   "cell_type": "code",
   "execution_count": 3,
   "metadata": {},
   "outputs": [
    {
     "name": "stdout",
     "output_type": "stream",
     "text": [
      "8.63567386831276\n",
      "8.702653463648836\n"
     ]
    }
   ],
   "source": [
    "#Q2\n",
    "\n",
    "def calcul_EP(d):\n",
    "    return 4*d*(5/6)**d + 1 - (5/6)**d\n",
    "\n",
    "print(calcul_EP(5))\n",
    "print(calcul_EP(6))\n",
    "#On doit choisir d*=6 car EP(6) est supérieur de EP(5)\n",
    "\n",
    "\n"
   ]
  },
  {
   "cell_type": "code",
   "execution_count": 4,
   "metadata": {},
   "outputs": [],
   "source": [
    "class strategie_optimal(object):\n",
    "    def __init__(self, D, N):\n",
    "        self.N = N\n",
    "        self.D = D\n",
    "        self.tab = np.ones((N,N))*100\n",
    "        self.best_choice = np.zeros((N,N))\n",
    "         \n",
    "    def EG(self,i,j):\n",
    "        if(i>=self.N):\n",
    "            return 1\n",
    "        elif(j>=self.N):\n",
    "            return -1\n",
    "        elif self.tab[i][j]<100:\n",
    "            return self.tab[i][j]\n",
    "        \n",
    "        exps=[]\n",
    "        for d1 in range(1,self.D+1):\n",
    "            exp=0\n",
    "            for e1 in range(1,6*d1+1):\n",
    "                exp += P(d1,e1) * self.EG(j,i+e1)\n",
    "            exps.append(-exp)\n",
    "        self.tab[i][j]=max(exps)\n",
    "        self.best_choice[i][j]=int(np.argmax(exps)+1)\n",
    "        return self.tab[i][j]\n",
    "    \n",
    "    def choice_optimal(self,i,j):\n",
    "        if self.best_choice[i][j]<1:\n",
    "            t = self.EG(i,j)\n",
    "        return self.best_choice[i][j]\n",
    "    "
   ]
  },
  {
   "cell_type": "code",
   "execution_count": 5,
   "metadata": {},
   "outputs": [],
   "source": [
    "#Q7\n",
    "class strategie_aveugle(object):\n",
    "    def __init__(self, D, N):\n",
    "        self.N = N\n",
    "        self.D = D\n",
    "        \n",
    "    def choice_optimal(self,i,j):\n",
    "        if self.D > 5:\n",
    "            return 6\n",
    "        return self.D\n",
    "    \n",
    "stra_opt1 = strategie_optimal(10,100)\n",
    "stra_opt1 = strategie_optimal(10,100)\n",
    "#def strategie_optimale(i,j):\n"
   ]
  },
  {
   "cell_type": "code",
   "execution_count": 6,
   "metadata": {},
   "outputs": [],
   "source": [
    "#Q8\n",
    "def get_random_score(d):\n",
    "    res = 0\n",
    "    for i in range(d):\n",
    "        tmp = random.randint(1 , 6)\n",
    "        if(tmp==1):\n",
    "            return 1\n",
    "        res += tmp\n",
    "    return res\n",
    "\n",
    "\n",
    "def game_ai(n,stra1,stra2):\n",
    "    state=[0,0]\n",
    "    while(state[1]<n)&(state[0]<n):\n",
    "        #print(\"Score of player1: \",state[0],\"\\n Score of player2: \",state[1],\"\\n\")\n",
    "        d1 = int(stra1.choice_optimal(state[0],state[1]))\n",
    "        p1 = get_random_score(d1)\n",
    "        state[0] += p1\n",
    "        #print(\"AI111 get \",p1, \"score with \",d1,\" dice(s)!\\n\")\n",
    "        if(state[0]>=n):\n",
    "            return 1\n",
    "        d2 = int(stra2.choice_optimal(state[1],state[0]))\n",
    "        p2 = get_random_score(d2)\n",
    "        state[1] += p2\n",
    "        #print(\"AI222 get \",p2, \"score with \",d2,\" dice(s)!\\n\")\n",
    "    if state[0]>=n:\n",
    "        return 1\n",
    "    else:\n",
    "        return -1\n",
    "\n",
    "        \n",
    "\n",
    "def test_D(D,N):\n",
    "    n_test = 50\n",
    "    n_intervalle = 10\n",
    "    ds = [ int(D*i/n_intervalle) for i in range(1,1+n_intervalle)]\n",
    "    res = np.zeros((4,n_intervalle))\n",
    "    #res = [aa,ao,oa,oo]\n",
    "    for di in range(len(ds)):\n",
    "        res_aa = 0\n",
    "        res_ao = 0\n",
    "        res_oa = 0\n",
    "        res_oo = 0\n",
    "        stra_opt = strategie_optimal(ds[di],N)\n",
    "        stra_avg = strategie_aveugle(ds[di],N)\n",
    "        for i in range(n_test):\n",
    "            res_aa += game_ai(N,stra_avg,stra_avg)\n",
    "            res_ao += game_ai(N,stra_avg,stra_opt)\n",
    "            res_oa += game_ai(N,stra_opt,stra_avg)\n",
    "            res_oo += game_ai(N,stra_opt,stra_opt)\n",
    "            \n",
    "        res[0][di] = res_aa / n_test\n",
    "        res[1][di] = res_ao / n_test\n",
    "        res[2][di] = res_oa / n_test\n",
    "        res[3][di] = res_oo / n_test\n",
    "        \n",
    "    plt.plot(ds , res[0], c='r')\n",
    "    plt.xlabel(\"nombre de dé possible\")\n",
    "    plt.ylabel(\"variance de gain J1\")\n",
    "    plt.title(\"J1 aveugle & J2 aveugle\")\n",
    "    plt.show()\n",
    "    \n",
    "    plt.plot(ds , res[1], c='blue')\n",
    "    plt.xlabel(\"nombre de dé possible\")\n",
    "    plt.ylabel(\"variance de gain J1\")\n",
    "    plt.title(\"J1 aveugle & J2 optimal\")\n",
    "    plt.show()\n",
    "    \n",
    "    plt.plot(ds , res[2], c='y')\n",
    "    plt.xlabel(\"nombre de dé possible\")\n",
    "    plt.ylabel(\"variance de gain J1\")\n",
    "    plt.title(\"J1 optimal & J2 aveugle\")\n",
    "    plt.show()\n",
    "    \n",
    "    plt.plot(ds , res[3], c='black')\n",
    "    plt.xlabel(\"nombre de dé possible\")\n",
    "    plt.ylabel(\"variance de gain J1\")\n",
    "    plt.title(\"J1 optimal & J2 optimal\")\n",
    "    plt.show()\n",
    "    return res\n",
    "    \n",
    "\n",
    "    \n",
    "def test_N(D,N):\n",
    "    n_test = 50\n",
    "    n_intervalle = 10\n",
    "    ns = [ int(N*i/n_intervalle) for i in range(1,1+n_intervalle)]\n",
    "    res = np.zeros((4,n_intervalle))\n",
    "    #res = [aa,ao,oa,oo]\n",
    "    for ni in range(len(ns)):\n",
    "        res_aa = 0\n",
    "        res_ao = 0\n",
    "        res_oa = 0\n",
    "        res_oo = 0\n",
    "        stra_opt = strategie_optimal(D,ns[ni])\n",
    "        stra_avg = strategie_aveugle(D,ns[ni])\n",
    "        for i in range(n_test):\n",
    "            res_aa += game_ai(ns[ni],stra_avg,stra_avg)\n",
    "            res_ao += game_ai(ns[ni],stra_avg,stra_opt)\n",
    "            res_oa += game_ai(ns[ni],stra_opt,stra_avg)\n",
    "            res_oo += game_ai(ns[ni],stra_opt,stra_opt)\n",
    "            \n",
    "        res[0][ni] = res_aa / n_test\n",
    "        res[1][ni] = res_ao / n_test\n",
    "        res[2][ni] = res_oa / n_test\n",
    "        res[3][ni] = res_oo / n_test\n",
    "        \n",
    "    plt.plot(ns , res[0], c='r')\n",
    "    plt.xlabel(\"ligne N pour gagner\")\n",
    "    plt.ylabel(\"variance de gain J1\")\n",
    "    plt.title(\"J1 aveugle & J2 aveugle\")\n",
    "    plt.show()\n",
    "    \n",
    "    plt.plot(ns , res[1], c='blue')\n",
    "    plt.xlabel(\"ligne N pour gagner\")\n",
    "    plt.ylabel(\"variance de gain J1\")\n",
    "    plt.title(\"J1 aveugle & J2 optimal\")\n",
    "    plt.show()\n",
    "    \n",
    "    plt.plot(ns , res[2], c='y')\n",
    "    plt.xlabel(\"ligne N pour gagner\")\n",
    "    plt.ylabel(\"variance de gain J1\")\n",
    "    plt.title(\"J1 optimal & J2 aveugle\")\n",
    "    plt.show()\n",
    "    \n",
    "    plt.plot(ns , res[3], c='black')\n",
    "    plt.xlabel(\"ligne N pour gagner\")\n",
    "    plt.ylabel(\"variance de gain J1\")\n",
    "    plt.title(\"J1 optimal & J2 optimal\")\n",
    "    plt.show()\n",
    "    return res"
   ]
  },
  {
   "cell_type": "code",
   "execution_count": 14,
   "metadata": {},
   "outputs": [
    {
     "data": {
      "image/png": "[encoded data removed]",
      "text/plain": [
       "<Figure size 432x288 with 1 Axes>"
      ]
     },
     "metadata": {
      "needs_background": "light"
     },
     "output_type": "display_data"
    },
    {
     "data": {
      "image/png": "[encoded data removed]",
      "text/plain": [
       "<Figure size 432x288 with 1 Axes>"
      ]
     },
     "metadata": {
      "needs_background": "light"
     },
     "output_type": "display_data"
    },
    {
     "data": {
      "image/png": "[encoded data removed]",
      "text/plain": [
       "<Figure size 432x288 with 1 Axes>"
      ]
     },
     "metadata": {
      "needs_background": "light"
     },
     "output_type": "display_data"
    },
    {
     "data": {
      "image/png": "[encoded data removed]",
      "text/plain": [
       "<Figure size 432x288 with 1 Axes>"
      ]
     },
     "metadata": {
      "needs_background": "light"
     },
     "output_type": "display_data"
    },
    {
     "data": {
      "text/plain": [
       "array([[ 0.04, -0.08,  0.  ,  0.28,  0.24, -0.12, -0.04,  0.08,  0.08,\n",
       "         0.24],\n",
       "       [ 0.08,  0.04,  0.04,  0.16,  0.2 ,  0.16,  0.24, -0.04, -0.04,\n",
       "        -0.04],\n",
       "       [ 0.12, -0.04,  0.2 ,  0.32,  0.08,  0.2 ,  0.2 ,  0.12,  0.16,\n",
       "         0.12],\n",
       "       [-0.2 ,  0.24,  0.16,  0.2 ,  0.04,  0.16,  0.32,  0.08,  0.04,\n",
       "        -0.04]])"
      ]
     },
     "execution_count": 14,
     "metadata": {},
     "output_type": "execute_result"
    }
   ],
   "source": [
    "test_D(10,100)"
   ]
  },
  {
   "cell_type": "code",
   "execution_count": null,
   "metadata": {},
   "outputs": [],
   "source": [
    "test_N(10,100)"
   ]
  },
  {
   "cell_type": "code",
   "execution_count": 9,
   "metadata": {},
   "outputs": [
    {
     "name": "stdout",
     "output_type": "stream",
     "text": [
      "0.06871904732303523\n"
     ]
    }
   ],
   "source": [
    "#print(stra_opt1.EG(95,95))\n",
    "[stra_opt1.EG(i,99) for i in range(0,100)]\n",
    "print(stra_opt1.EG(0,0))"
   ]
  },
  {
   "cell_type": "code",
   "execution_count": 10,
   "metadata": {},
   "outputs": [],
   "source": [
    "#Q9\n",
    "class game(object):\n",
    "    def __init__(self, D, N):\n",
    "        self.N = N\n",
    "        self.D = D\n",
    "        self.tab = np.ones((N,N))*100\n",
    "        \n",
    "    \n",
    "    def start_conter_ai(self,strategie):\n",
    "        state=[0,0]\n",
    "        tour = 0\n",
    "        while(state[1]<self.N)&(state[0]<self.N):\n",
    "            tour += 1\n",
    "            print(\"*****************************************\\n\")\n",
    "            print(\"Tour:\",tour, \"\\n Score of player1: \",state[0],\"\\n Score of player2: \",state[1],\"\\n Score of target: \",self.N )\n",
    "            print(\"You can make a choice between 1 and \",self.D,\" for this round:\")\n",
    "            d1 = int(input())\n",
    "            p1 = get_random_score(d1)\n",
    "            print(\"You get \",p1, \"score with \",d1, \" dice(s)!\\n\")\n",
    "            state[0]+=p1\n",
    "            if(state[0]>=n):\n",
    "                break\n",
    "            d2 = int(strategie.choice_optimal(state[1],state[0]))\n",
    "            p2 = get_random_score(d2)\n",
    "            print(\"AI get \",p2, \"score with \",d2,\" dice(s)!\\n\")\n",
    "            state[1]+=p2\n",
    "            print(\"\\n\\n\\n\\n\\n\\n\")\n",
    "            \n",
    "        if state[0]>=self.N:\n",
    "            print(\"You win\")\n",
    "        else:\n",
    "            print(\"•••You lose•••\")\n",
    "            \n",
    "    def start(self):\n",
    "        pygame.init()\n",
    "        screen = pygame.display.set_mode((640,480),0,32)\n",
    "        pygame.display.set_caption(\"Dice Battle\")\n",
    "        dice = pygame.image.load(\"img/dice_0.jpg\")\n",
    "        print(dice)\n",
    "        dice_x, dice_y = 0, 0  \n",
    "        h_direction = 1  \n",
    "        speed = 10\n",
    "        width = 844\n",
    "        while 1:\n",
    "            for event in pygame.event.get():\n",
    "                if event.type == pygame.QUIT:\n",
    "                    pygame.quit()\n",
    "            \n",
    "            screen.blit(dice, (dice_x, dice_y))\n",
    "            dice_x += speed * h_direction\n",
    "            if dice_x > width:\n",
    "                h_direction = -h_direction\n",
    "            elif dice_x < 0:\n",
    "                h_direction = -h_direction\n",
    "            pygame.display.update()\n",
    "            \n",
    "\n",
    "        \n",
    "\n"
   ]
  },
  {
   "cell_type": "code",
   "execution_count": 11,
   "metadata": {},
   "outputs": [],
   "source": [
    "game1 = game(10,100)\n",
    "#game1.start_conter_ai(stra_opt1)"
   ]
  },
  {
   "cell_type": "code",
   "execution_count": 12,
   "metadata": {},
   "outputs": [],
   "source": [
    "game2 = game(10,100)\n",
    "#game2.start()\n"
   ]
  },
  {
   "cell_type": "code",
   "execution_count": 13,
   "metadata": {},
   "outputs": [
    {
     "name": "stdout",
     "output_type": "stream",
     "text": [
      "-6\n"
     ]
    }
   ],
   "source": [
    "stra_opt1 = strategie_optimal(10,200)\n",
    "stra_opt2 = strategie_optimal(10,200)\n",
    "print(sum([game_ai(200,stra_opt1,stra_opt2) for i in range(100)]))\n"
   ]
  },
  {
   "cell_type": "code",
   "execution_count": null,
   "metadata": {},
   "outputs": [],
   "source": []
  }
 ],
 "metadata": {
  "kernelspec": {
   "display_name": "Python 3",
   "language": "python",
   "name": "python3"
  },
  "language_info": {
   "codemirror_mode": {
    "name": "ipython",
    "version": 3
   },
   "file_extension": ".py",
   "mimetype": "text/x-python",
   "name": "python",
   "nbconvert_exporter": "python",
   "pygments_lexer": "ipython3",
   "version": "3.7.4"
  }
 },
 "nbformat": 4,
 "nbformat_minor": 2
}
